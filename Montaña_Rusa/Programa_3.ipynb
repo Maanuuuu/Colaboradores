{
 "cells": [
  {
   "cell_type": "markdown",
   "metadata": {},
   "source": [
    "<center><h1><strong>Diseño de una Montaña Rusa</strong></h1></center>  \n",
    "<center><img src=\"Montaña Rusa.jpg\" width=450 height=270></center>  \n",
    "\n",
    "### **Sección: 305C1**\n",
    "### **Estudiantes:**\n",
    "Manuel Nava 30.822.007  \n",
    "Juan Wu 30.391.117  \n",
    "Enrique Gonzalez 31.456.812"
   ]
  },
  {
   "cell_type": "markdown",
   "metadata": {},
   "source": [
    "Una empresa de parques de atracciones está diseñando una nueva montaña \n",
    "rusa y necesita que la trayectoria de la vía sea suave y continúe en todo el recorrido. \n",
    "Para esto, solicitan que se realice un modelo matemático que utilice un método de \n",
    "trazador cúbico sujeto. Además, requieren que el análisis de la estabilidad \n",
    "estructural de la vía se haga utilizando un polinomio de mínimos cuadrados para \n",
    "ajustar los datos experimentales obtenidos de las pruebas de tensión y compresión \n",
    "del material. El diseño también debe incluir el uso de polinomios ortogonales para \n",
    "optimizar la forma de ciertos tramos de la vía y mejorar la experiencia del usuario. \n",
    "Finalmente, se necesita resolver un sistema de ecuaciones para determinar las \n",
    "fuerzas que actúan en los puntos críticos de la estructura."
   ]
  },
  {
   "cell_type": "markdown",
   "metadata": {},
   "source": [
    "## Paso 1: Método de Trazador Cúbico Sujeto"
   ]
  },
  {
   "cell_type": "code",
   "execution_count": null,
   "metadata": {},
   "outputs": [],
   "source": []
  },
  {
   "cell_type": "markdown",
   "metadata": {},
   "source": [
    "## Paso 2: Polinomio de Mínimos Cuadrados"
   ]
  },
  {
   "cell_type": "code",
   "execution_count": null,
   "metadata": {},
   "outputs": [],
   "source": []
  },
  {
   "cell_type": "markdown",
   "metadata": {},
   "source": [
    "## Paso 3: Polinomios Ortogonales"
   ]
  },
  {
   "cell_type": "code",
   "execution_count": null,
   "metadata": {},
   "outputs": [],
   "source": []
  },
  {
   "cell_type": "markdown",
   "metadata": {},
   "source": [
    "## Paso 4: Resolución de Ecuaciones"
   ]
  },
  {
   "cell_type": "code",
   "execution_count": null,
   "metadata": {},
   "outputs": [],
   "source": []
  },
  {
   "cell_type": "markdown",
   "metadata": {},
   "source": [
    "<center><h1><strong>¡Gracias!</strong></h1></center>"
   ]
  }
 ],
 "metadata": {
  "kernelspec": {
   "display_name": "Entorno_virtual",
   "language": "python",
   "name": "python3"
  },
  "language_info": {
   "codemirror_mode": {
    "name": "ipython",
    "version": 3
   },
   "file_extension": ".py",
   "mimetype": "text/x-python",
   "name": "python",
   "nbconvert_exporter": "python",
   "pygments_lexer": "ipython3",
   "version": "3.11.9"
  }
 },
 "nbformat": 4,
 "nbformat_minor": 2
}
