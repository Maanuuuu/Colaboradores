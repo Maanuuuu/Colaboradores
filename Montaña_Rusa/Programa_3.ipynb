{
 "cells": [
  {
   "cell_type": "markdown",
   "metadata": {},
   "source": [
    "<center><h1><strong>Diseño de una Montaña Rusa</strong></h1></center>  \n",
    "<center><img src=\"Montaña Rusa.jpg\" width=450 height=270></center>  \n",
    "\n",
    "### **Sección: 305C1**\n",
    "### **Estudiantes:**\n",
    "Manuel Nava 30.822.007  \n",
    "Juan Wu 30.391.117  \n",
    "Enrique Gonzalez 31.456.812"
   ]
  },
  {
   "cell_type": "markdown",
   "metadata": {},
   "source": [
    "<p align=\"left\">Una empresa de parques de atracciones está diseñando una nueva montaña \n",
    "rusa y necesita que la trayectoria de la vía sea suave y continúe en todo el recorrido. \n",
    "Para esto, solicitan que se realice un modelo matemático que utilice un método de \n",
    "trazador cúbico sujeto. Además, requieren que el análisis de la estabilidad \n",
    "estructural de la vía se haga utilizando un polinomio de mínimos cuadrados para \n",
    "ajustar los datos experimentales obtenidos de las pruebas de tensión y compresión \n",
    "del material. El diseño también debe incluir el uso de polinomios ortogonales para \n",
    "optimizar la forma de ciertos tramos de la vía y mejorar la experiencia del usuario. \n",
    "Finalmente, se necesita resolver un sistema de ecuaciones para determinar las \n",
    "fuerzas que actúan en los puntos críticos de la estructura.\n",
    "</p>"
   ]
  },
  {
   "cell_type": "markdown",
   "metadata": {},
   "source": [
    "## Paso 1: Método de Trazador Cúbico Sujeto"
   ]
  },
  {
   "cell_type": "markdown",
   "metadata": {},
   "source": [
    "Obtener los datos desde un archivo \"csv\"  \n",
    "  \n",
    "El trazador cúbico sujeto es una técnica de interpolación que se utiliza para aproximar una función a partir de un conjunto de puntos de control. A diferencia del trazador cúbico natural, el trazador cúbico sujeto incorpora condiciones adicionales en los extremos del intervalo.\n",
    "\n",
    "$ S_i(x) = a_i + b_i(x - x_i) + c_i(x - x_i)^2 + d_i(x - x_i)^3 $"
   ]
  },
  {
   "cell_type": "code",
   "execution_count": 3,
   "metadata": {},
   "outputs": [
    {
     "name": "stdout",
     "output_type": "stream",
     "text": [
      "[0.0, 1.0, 2.0, 3.0, 4.0, 5.0]\n",
      "[0.5, 0.8, 1.0, 0.9, 1.2, 0.7]\n"
     ]
    }
   ],
   "source": [
    "import csv\n",
    "\n",
    "def obtenerelarreglodefilas(archivo, filadelarchivo):\n",
    "    with open(archivo, 'r') as file:\n",
    "        leo = csv.reader(file)\n",
    "        rows = list(leo)\n",
    "        if filadelarchivo > len(rows) or filadelarchivo < 1:\n",
    "            raise ValueError(\"Row number out of range\")\n",
    "        return rows[filadelarchivo - 1]\n",
    "    \n",
    "archivo = 'datos.csv'\n",
    "filadelarchivo = 1\n",
    "xi = obtenerelarreglodefilas(archivo, filadelarchivo)\n",
    "xi = [float(cadena) for cadena in xi]\n",
    "\n",
    "def obtengoyi():\n",
    "    archivo = 'datos.csv'\n",
    "    filadelarchivo = 2\n",
    "    yi = obtenerelarreglodefilas(archivo, filadelarchivo)\n",
    "    yi = [float(cadena) for cadena in yi]\n",
    "    return yi\n",
    "\n",
    "print(xi)\n",
    "yi = obtengoyi()\n",
    "print(yi)"
   ]
  },
  {
   "cell_type": "code",
   "execution_count": 1,
   "metadata": {},
   "outputs": [],
   "source": []
  },
  {
   "cell_type": "markdown",
   "metadata": {},
   "source": [
    "## Paso 2: Polinomio de Mínimos Cuadrados"
   ]
  },
  {
   "cell_type": "code",
   "execution_count": 2,
   "metadata": {},
   "outputs": [
    {
     "name": "stdout",
     "output_type": "stream",
     "text": [
      "30\n"
     ]
    }
   ],
   "source": [
    "print(x)"
   ]
  },
  {
   "cell_type": "markdown",
   "metadata": {},
   "source": [
    "## Paso 3: Polinomios Ortogonales"
   ]
  },
  {
   "cell_type": "code",
   "execution_count": null,
   "metadata": {},
   "outputs": [],
   "source": []
  },
  {
   "cell_type": "markdown",
   "metadata": {},
   "source": [
    "## Paso 4: Resolución de Ecuaciones"
   ]
  },
  {
   "cell_type": "code",
   "execution_count": null,
   "metadata": {},
   "outputs": [],
   "source": []
  },
  {
   "cell_type": "markdown",
   "metadata": {},
   "source": [
    "<center><h1><strong>¡Gracias!</strong></h1></center>"
   ]
  }
 ],
 "metadata": {
  "kernelspec": {
   "display_name": "Entorno_virtual",
   "language": "python",
   "name": "python3"
  },
  "language_info": {
   "codemirror_mode": {
    "name": "ipython",
    "version": 3
   },
   "file_extension": ".py",
   "mimetype": "text/x-python",
   "name": "python",
   "nbconvert_exporter": "python",
   "pygments_lexer": "ipython3",
   "version": "3.11.9"
  }
 },
 "nbformat": 4,
 "nbformat_minor": 2
}
