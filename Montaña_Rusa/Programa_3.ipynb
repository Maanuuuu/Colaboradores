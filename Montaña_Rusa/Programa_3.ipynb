{
 "cells": [
  {
   "cell_type": "markdown",
   "metadata": {},
   "source": [
    "<center><h1><strong>Diseño de una Montaña Rusa</strong></h1></center>  \n",
    "<center><img src=\"Montaña Rusa.jpg\" width=450 height=270></center>  \n",
    "\n",
    "### **Sección: 305C1**\n",
    "### **Estudiantes:**\n",
    "Manuel Nava 30.822.007  \n",
    "Juan Wu 30.391.117  \n",
    "Enrique Gonzalez 31.456.812"
   ]
  },
  {
   "cell_type": "code",
   "execution_count": null,
   "metadata": {},
   "outputs": [
    {
     "ename": "",
     "evalue": "",
     "output_type": "error",
     "traceback": [
      "\u001b[1;31m运行具有“Entorno_virtual (Python 3.11.9)”的单元格需要ipykernel包。\n",
      "\u001b[1;31m运行以下命令，将 \"ipykernel\" 安装到 Python 环境中。\n",
      "\u001b[1;31m命令: \"c:/Users/Cliente/Desktop/Team_Proyecto(Calculo_Numerico)/Nuevo_equipo/Colaboradores/Entorno_virtual/Scripts/python.exe -m pip install ipykernel -U --force-reinstall\""
     ]
    }
   ],
   "source": [
    "print(\"Hello world\")"
   ]
  }
 ],
 "metadata": {
  "kernelspec": {
   "display_name": "Entorno_virtual",
   "language": "python",
   "name": "python3"
  },
  "language_info": {
   "name": "python",
   "version": "3.11.9"
  }
 },
 "nbformat": 4,
 "nbformat_minor": 2
}
