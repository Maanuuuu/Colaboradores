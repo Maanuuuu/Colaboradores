{
 "cells": [
  {
   "cell_type": "markdown",
   "metadata": {},
   "source": [
    "<center><h1><strong>Diseño de una Montaña Rusa</strong></h1></center>  \n",
    "<center><img src=\"Montaña Rusa.jpg\" width=450 height=270></center>  \n",
    "\n",
    "### **Sección: 305C1**\n",
    "### **Estudiantes:**\n",
    "Manuel Nava 30.822.007  \n",
    "Juan Wu 30.391.117  \n",
    "Enrique Gonzalez 31.456.812"
   ]
  },
  {
   "cell_type": "markdown",
   "metadata": {},
   "source": [
    "<p align=\"left\">Una empresa de parques de atracciones está diseñando una nueva montaña \n",
    "rusa y necesita que la trayectoria de la vía sea suave y continúe en todo el recorrido. \n",
    "Para esto, solicitan que se realice un modelo matemático que utilice un método de \n",
    "trazador cúbico sujeto. Además, requieren que el análisis de la estabilidad \n",
    "estructural de la vía se haga utilizando un polinomio de mínimos cuadrados para \n",
    "ajustar los datos experimentales obtenidos de las pruebas de tensión y compresión \n",
    "del material. El diseño también debe incluir el uso de polinomios ortogonales para \n",
    "optimizar la forma de ciertos tramos de la vía y mejorar la experiencia del usuario. \n",
    "Finalmente, se necesita resolver un sistema de ecuaciones para determinar las \n",
    "fuerzas que actúan en los puntos críticos de la estructura.\n",
    "</p>"
   ]
  },
  {
   "cell_type": "markdown",
   "metadata": {},
   "source": [
    "## Paso 1: Método de Trazador Cúbico Sujeto"
   ]
  },
  {
   "cell_type": "markdown",
   "metadata": {},
   "source": [
    "Obtener los datos desde un archivo \"csv\"  \n",
    "  \n",
    "El trazador cúbico sujeto es una técnica de interpolación que se utiliza para aproximar una función a partir de un conjunto de puntos de control. A diferencia del trazador cúbico natural, el trazador cúbico sujeto incorpora condiciones adicionales en los extremos del intervalo.\n",
    "\n",
    "$ S_i(x) = a_i + b_i(x - x_i) + c_i(x - x_i)^2 + d_i(x - x_i)^3 $"
   ]
  },
  {
   "cell_type": "code",
   "execution_count": 3,
   "metadata": {},
   "outputs": [
    {
     "name": "stdout",
     "output_type": "stream",
     "text": [
      "[0.0, 1.0, 2.0, 3.0, 4.0, 5.0]\n",
      "[0.5, 0.8, 1.0, 0.9, 1.2, 0.7]\n"
     ]
    }
   ],
   "source": [
    "import csv\n",
    "\n",
    "def obtenerelarreglodefilas(archivo, filadelarchivo):\n",
    "    with open(archivo, 'r') as file:\n",
    "        leo = csv.reader(file)\n",
    "        rows = list(leo)\n",
    "        if filadelarchivo > len(rows) or filadelarchivo < 1:\n",
    "            raise ValueError(\"Row number out of range\")\n",
    "        return rows[filadelarchivo - 1]\n",
    "    \n",
    "archivo = 'datos.csv'\n",
    "filadelarchivo = 1\n",
    "xi = obtenerelarreglodefilas(archivo, filadelarchivo)\n",
    "xi = [float(cadena) for cadena in xi]\n",
    "\n",
    "def obtengoyi():\n",
    "    archivo = 'datos.csv'\n",
    "    filadelarchivo = 2\n",
    "    yi = obtenerelarreglodefilas(archivo, filadelarchivo)\n",
    "    yi = [float(cadena) for cadena in yi]\n",
    "    return yi\n",
    "\n",
    "print(xi)\n",
    "yi = obtengoyi()\n",
    "print(yi)"
   ]
  },
  {
   "cell_type": "code",
   "execution_count": 1,
   "metadata": {},
   "outputs": [],
   "source": [
    "import numpy as np\n",
    "import sympy as sym\n",
    "import matplotlib.pyplot as plt\n",
    "\n",
    "\n",
    "def traza3sujeto(xi, yi):\n",
    "    n = len(xi)\n",
    "    h = np.zeros(n-1, dtype = float)\n",
    "    for j in range(0,n-1,1):\n",
    "        h[j] = xi[j+1] - xi[j]\n",
    "    \n",
    "    #sistema de ecuaciones\n",
    "    A = np.zeros(shape=(n,n), dtype = float)\n",
    "    B = np.zeros(n, dtype = float)\n",
    "    S = np.zeros(n, dtype = float)\n",
    "\n",
    "    A[0,0] = 2*h[0]\n",
    "    A[0,1] = h[0]\n",
    "    B[0] = 3*((yi[1]-yi[0])/h[0])\n",
    "\n",
    "    for i in range(1,n-1,1):\n",
    "        A[i,i-1] = h[i-1]\n",
    "        A[i,i] = 2*(h[i-1]+h[i])\n",
    "        A[i,i+1] = h[i]\n",
    "        factor21 = (yi[i+1]-yi[i])/h[i]\n",
    "        factor10 = (yi[i]-yi[i-1])/h[i-1]\n",
    "        B[i] = 3*(factor21 - factor10)\n",
    "        \n",
    "    A[n-1,n-2] = h[n-2]\n",
    "    A[n-1,n-1] = 2*h[n-2]\n",
    "    factor12 = (yi[n-1]-yi[n-2])/h[n-2]\n",
    "    factor23 = (yi[n-2]-yi[n-3])/h[n-3]\n",
    "    B[n-1] = 3*(factor12 - factor23)\n",
    "    \n",
    "\n",
    "    r = np.linalg.solve(A,B)\n",
    "    for j in range(0,n,1):\n",
    "        S[j] = r[j]\n",
    "    \n",
    "\n",
    "    a = np.zeros(n-1, dtype = float); b = np.zeros(n-1, dtype = float) ; c = np.zeros(n-1, dtype = float) ; d = np.zeros(n-1, dtype = float)\n",
    "    \n",
    "    for j in range(0,n-1,1):\n",
    "        a[j] = (S[j+1]-S[j])/(6*h[j])\n",
    "        b[j] = S[j]/2\n",
    "        factor10 = (yi[j+1]-yi[j])/h[j]\n",
    "        c[j] = factor10 - (2*h[j]*S[j]+h[j]*S[j+1])/6\n",
    "        d[j] = yi[j]    \n",
    "\n",
    "    x = sym.Symbol('x')\n",
    "    px_tabla = []\n",
    "    for j in range(0,n-1,1):\n",
    "\n",
    "        pxtramo = a[j]*(x-xi[j])**3 + b[j]*(x-xi[j])**2\n",
    "        pxtramo = pxtramo + c[j]*(x-xi[j])+ d[j]\n",
    "        \n",
    "        pxtramo = pxtramo.expand()\n",
    "        px_tabla.append(pxtramo)\n",
    "    \n",
    "    return(px_tabla)\n",
    "\n",
    "\n",
    "muestras = 10 \n",
    "\n",
    "n = len(xi)\n",
    "px_tabla = traza3sujeto(xi,yi)\n",
    "\n",
    "xjunto = np.array([])\n",
    "yjunto = np.array([])\n",
    "\n",
    "for tramo in range(0, n-1, 1):\n",
    "    xparagraficar = np.linspace(xi[tramo], xi[tramo+1], muestras)  #aqui la grafica nos da la grafica en tramo por ende tomamos los array y los unimos toodas para graficar todo en una linea suave\n",
    "    yparagraficar = [px_tabla[tramo].subs('x', x) for x in xparagraficar]\n",
    "    xjunto = np.concatenate((xjunto, xparagraficar))\n",
    "    yjunto = np.concatenate((yjunto, yparagraficar))\n",
    "\n",
    "plt.plot(xjunto, yjunto, label='Trazador cúbico sujeto')\n",
    "plt.plot(xi, yi, 'o', label='Puntos de control')\n",
    "plt.xlabel('x')\n",
    "plt.ylabel('y')\n",
    "plt.title('Trazador cúbico sujeto')\n",
    "plt.legend()\n",
    "plt.show()"
   ]
  },
  {
   "cell_type": "markdown",
   "metadata": {},
   "source": [
    "## Paso 2: Polinomio de Mínimos Cuadrados"
   ]
  },
  {
   "cell_type": "code",
   "execution_count": 2,
   "metadata": {},
   "outputs": [
    {
     "name": "stdout",
     "output_type": "stream",
     "text": [
      "30\n"
     ]
    }
   ],
   "source": [
    "print(x)"
   ]
  },
  {
   "cell_type": "markdown",
   "metadata": {},
   "source": [
    "## Paso 3: Polinomios Ortogonales"
   ]
  },
  {
   "cell_type": "code",
   "execution_count": null,
   "metadata": {},
   "outputs": [],
   "source": []
  },
  {
   "cell_type": "markdown",
   "metadata": {},
   "source": [
    "## Paso 4: Resolución de Ecuaciones"
   ]
  },
  {
   "cell_type": "code",
   "execution_count": null,
   "metadata": {},
   "outputs": [],
   "source": []
  },
  {
   "cell_type": "markdown",
   "metadata": {},
   "source": [
    "<center><h1><strong>¡Gracias!</strong></h1></center>"
   ]
  }
 ],
 "metadata": {
  "kernelspec": {
   "display_name": "Entorno_virtual",
   "language": "python",
   "name": "python3"
  },
  "language_info": {
   "codemirror_mode": {
    "name": "ipython",
    "version": 3
   },
   "file_extension": ".py",
   "mimetype": "text/x-python",
   "name": "python",
   "nbconvert_exporter": "python",
   "pygments_lexer": "ipython3",
   "version": "3.11.9"
  }
 },
 "nbformat": 4,
 "nbformat_minor": 2
}
