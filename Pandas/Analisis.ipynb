{
 "cells": [
  {
   "cell_type": "markdown",
   "metadata": {},
   "source": [
    "<center><h1><strong>Analisis de Datos con Pandas</strong></h1></center>  \n",
    "<center><img src=\"pandita.png\" width=530 height=250></center>  \n",
    "\n",
    "### **Sección: 305C1**\n",
    "### **Estudiantes:**\n",
    "Manuel Nava 30.822.007  \n",
    "Juan Wu 30.391.117  \n",
    "Enrique Gonzalez 31.456.812"
   ]
  }
 ],
 "metadata": {
  "language_info": {
   "name": "python"
  }
 },
 "nbformat": 4,
 "nbformat_minor": 2
}
