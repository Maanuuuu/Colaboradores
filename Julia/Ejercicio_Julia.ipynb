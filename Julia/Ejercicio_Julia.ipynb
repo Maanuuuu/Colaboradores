{
 "cells": [
  {
   "cell_type": "markdown",
   "metadata": {},
   "source": [
    "# <center>**Práctica de Julia**</center>  \n",
    "<center><img src = \"Julia icono.png\" width = 300 height = 200></center>"
   ]
  },
  {
   "cell_type": "markdown",
   "metadata": {},
   "source": [
    "---"
   ]
  },
  {
   "cell_type": "markdown",
   "metadata": {},
   "source": [
    "## **El uso de print y println**"
   ]
  },
  {
   "cell_type": "markdown",
   "metadata": {},
   "source": [
    "#### Y con una pequeña introducción cómo definir una variable"
   ]
  },
  {
   "cell_type": "code",
   "execution_count": 7,
   "metadata": {},
   "outputs": [
    {
     "name": "stdout",
     "output_type": "stream",
     "text": [
      "Hola Julia\n",
      "18"
     ]
    }
   ],
   "source": [
    "print(\"Hola Julia\")\n",
    "\n",
    "num1 = 18\n",
    "println()\n",
    "print(num1)"
   ]
  },
  {
   "cell_type": "markdown",
   "metadata": {},
   "source": [
    "El primer linea codigo: Aquí se utiliza el **print**, el cual sirve para imprimir sea un tipo de numero o tipo string, en este caso imprime el tipo string (debe recordar colocar 2 doble comilla cerrando al contenido, y por último se cierra con un paréntesis a todo) \n",
    "   \n",
    "La segunda linea codigo: **num1** es una variable que se está guardando un número entero '18'. ¿Qué es una variable? Es aquella que pueda nombrar cualquier nombres pero no palabras reservadas, por ejemplo también pueda nombrarse como 'num2', 'num3', etc., que el cual sirve para asignar un tipo de valor.  \n",
    "  \n",
    "Los restos codigos: el **println** realmente es igual como print, pero cuando terminar de imprimir, se hace un salto de linea. En este caso, no se imprime nada y se salta para otra linea, y por último se imprime el variable **num1** con el print, cerrando con un paréntesis."
   ]
  },
  {
   "cell_type": "markdown",
   "metadata": {},
   "source": [
    "---"
   ]
  },
  {
   "cell_type": "markdown",
   "metadata": {},
   "source": [
    "## **Sencillo de Suma**"
   ]
  },
  {
   "cell_type": "code",
   "execution_count": 8,
   "metadata": {},
   "outputs": [
    {
     "name": "stdout",
     "output_type": "stream",
     "text": [
      "520"
     ]
    }
   ],
   "source": [
    "x = 50\n",
    "y = 470\n",
    "result = x + y\n",
    "print(result)"
   ]
  },
  {
   "cell_type": "markdown",
   "metadata": {},
   "source": [
    "**x** y **y** son variables. En este caso, **x** está guardando un numero entero 50, y el **y** está guardando un numero entero 470.\n",
    "Después, el variable \"result\" se asignó el resultado de la suma de **x** y **y**.\n",
    "Y al final imprime el resultado de la suma, que seria **result** utilizando el \"print()\"."
   ]
  },
  {
   "cell_type": "markdown",
   "metadata": {},
   "source": [
    "---"
   ]
  },
  {
   "cell_type": "markdown",
   "metadata": {},
   "source": [
    "## **Ejemplo de ciclo for**"
   ]
  },
  {
   "cell_type": "code",
   "execution_count": 9,
   "metadata": {},
   "outputs": [
    {
     "name": "stdout",
     "output_type": "stream",
     "text": [
      "2\n",
      "3\n",
      "4\n",
      "5\n",
      "6\n",
      "7\n",
      "8\n",
      "9\n",
      "10\n",
      "11\n"
     ]
    }
   ],
   "source": [
    "for i in 1:10\n",
    "    i += 1\n",
    "    println(i)\n",
    "end"
   ]
  },
  {
   "cell_type": "markdown",
   "metadata": {},
   "source": [
    "En este codigo, se muestra como se trabaja **el ciclo for**. Un ciclo for es una estructura que se utiliza para ejercutar un bloque de codigo un número determinado de veces; la letra **i** es un valor inicial que puede ser cualquier cosa correspondiente al tipo de dato asignado.  \n",
    "  \n",
    "En este caso de codigo, el cual seria está trabajando de un rango de **1** hasta **10**, y dentro el ciclo **for**, el **i** se suma más uno, y luego se lo imprime, y por último se debe colocar el **end** para terminar el ciclo **for**."
   ]
  },
  {
   "cell_type": "markdown",
   "metadata": {},
   "source": [
    "---"
   ]
  },
  {
   "cell_type": "markdown",
   "metadata": {},
   "source": [
    "## **Un ejemplo sencillo para conocer como utilizar una matriz**"
   ]
  },
  {
   "cell_type": "code",
   "execution_count": 10,
   "metadata": {},
   "outputs": [
    {
     "name": "stdout",
     "output_type": "stream",
     "text": [
      "1\n",
      "3\n"
     ]
    }
   ],
   "source": [
    "x = [[1,2,3],[3,4,5]]\n",
    "for i in 1:2\n",
    "    println(x[i][1])\n",
    "end"
   ]
  },
  {
   "cell_type": "markdown",
   "metadata": {},
   "source": [
    "Aquí, nosotros llamamos la variable **x** que trabajar de forma como una matriz, el cual que tiene 2 filas y 3 columnas, después aquí utilizó el ciclo for para imprimir el número de **i** para fila y su primer columna, debe recordar, en comparación con otros lenguajes, se indica la posición de una matriz, sea de columna o fila, se trabaja **1**, no como anteriormente como **0**."
   ]
  },
  {
   "cell_type": "markdown",
   "metadata": {},
   "source": [
    "---"
   ]
  },
  {
   "cell_type": "markdown",
   "metadata": {},
   "source": [
    "## **Para ver como asignar un numero complejo**"
   ]
  },
  {
   "cell_type": "code",
   "execution_count": 11,
   "metadata": {},
   "outputs": [
    {
     "data": {
      "text/plain": [
       "1 + 1im"
      ]
     },
     "metadata": {},
     "output_type": "display_data"
    }
   ],
   "source": [
    "x = 1+ 1im"
   ]
  },
  {
   "cell_type": "markdown",
   "metadata": {},
   "source": [
    "Aqui, utilizo el variable de **x**, para asignar un tipo de numero complejo, ¿cómo asignarlo? Lo que debe hacer es, colocando una signo igualdad, escribir el numero que tiene el **i**, y colocando el signo **\"+\"** o **\"-\"** para asignar el numero **j**."
   ]
  },
  {
   "cell_type": "markdown",
   "metadata": {},
   "source": [
    "---"
   ]
  },
  {
   "cell_type": "markdown",
   "metadata": {},
   "source": [
    "## **Cómo concantenarlo dos tipos de String**"
   ]
  },
  {
   "cell_type": "code",
   "execution_count": 12,
   "metadata": {},
   "outputs": [
    {
     "name": "stdout",
     "output_type": "stream",
     "text": [
      "32 HOLLLL"
     ]
    }
   ],
   "source": [
    "num = 32\n",
    "texto = string(num)\n",
    "print(texto * \" HOLLLL\")"
   ]
  },
  {
   "cell_type": "markdown",
   "metadata": {},
   "source": [
    "Aqui, como podemos ver, principio, escribimos el variable **num** para asignar un numero tipo int, luego, lo convertimos en tipo string, utilizando el **string**, colocando el **num** dentro de un paréntesis, luego utiliza el **print** y el signo **\"*\"** (el **\"*\"** sirve para concantenar), que dentro en paréntesis, concatenando el **num** y un string (como ejemplo dice \"HOLLLL\")."
   ]
  }
 ],
 "metadata": {
  "kernelspec": {
   "display_name": "Julia 1.10.2",
   "language": "julia",
   "name": "julia-1.10"
  },
  "language_info": {
   "file_extension": ".jl",
   "mimetype": "application/julia",
   "name": "julia",
   "version": "1.10.2"
  }
 },
 "nbformat": 4,
 "nbformat_minor": 2
}
