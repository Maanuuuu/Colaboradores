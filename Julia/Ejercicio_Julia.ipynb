{
 "cells": [
  {
   "cell_type": "markdown",
   "metadata": {},
   "source": [
    "# <center>**Práctica de Julia**</center>  \n",
    "<center><img src = \"Julia icono.png\" width = 300 height = 200></center>"
   ]
  },
  {
   "cell_type": "markdown",
   "metadata": {},
   "source": [
    "---"
   ]
  },
  {
   "cell_type": "markdown",
   "metadata": {},
   "source": [
    "## Sencillo de Suma"
   ]
  },
  {
   "cell_type": "code",
   "execution_count": 42,
   "metadata": {},
   "outputs": [
    {
     "name": "stdout",
     "output_type": "stream",
     "text": [
      "520"
     ]
    }
   ],
   "source": [
    "x = 50\n",
    "y = 470\n",
    "result = x + y\n",
    "print(result)"
   ]
  },
  {
   "cell_type": "markdown",
   "metadata": {},
   "source": [
    "**x** y **y** son variables, que generalmente que darse como cualquier nombres pero no palabras reservadas para asignar de tipo de datos.\n",
    "Y aquí el variable \"result\" se asignó el resultado de la suma de **x** y **y**.\n",
    "Y al final imprime el resultado de la suma, que seria **result**."
   ]
  },
  {
   "cell_type": "markdown",
   "metadata": {},
   "source": [
    "---"
   ]
  },
  {
   "cell_type": "markdown",
   "metadata": {},
   "source": [
    "### Ejemplo de ciclo for"
   ]
  },
  {
   "cell_type": "code",
   "execution_count": 43,
   "metadata": {},
   "outputs": [
    {
     "name": "stdout",
     "output_type": "stream",
     "text": [
      "2\n",
      "3\n",
      "4\n",
      "5\n",
      "6\n",
      "7\n",
      "8\n",
      "9\n",
      "10\n",
      "11\n"
     ]
    }
   ],
   "source": [
    "for i in 1:10\n",
    "    i += 1\n",
    "    println(i)\n",
    "end"
   ]
  },
  {
   "cell_type": "markdown",
   "metadata": {},
   "source": [
    "En este codigo, se muestra como se trabaja el ciclo **for**, el cual seria está trabajando de un rango de uno hasta diez, y dentro el ciclo **for**, el **i** se suma más uno, y luego se lo imprime, y por último se debe colocar el **end** para terminar el ciclo **for**."
   ]
  },
  {
   "cell_type": "markdown",
   "metadata": {},
   "source": [
    "---"
   ]
  },
  {
   "cell_type": "markdown",
   "metadata": {},
   "source": [
    "### Imprimir directamente un tipo string"
   ]
  },
  {
   "cell_type": "code",
   "execution_count": 44,
   "metadata": {},
   "outputs": [
    {
     "name": "stdout",
     "output_type": "stream",
     "text": [
      "Julia"
     ]
    }
   ],
   "source": [
    "print(\"Julia\")"
   ]
  },
  {
   "cell_type": "markdown",
   "metadata": {},
   "source": [
    "Aquí nada solo utilizar **print** para imprimir, el cual imprime el tipo string (debe recordar colocar 2 doble comilla)"
   ]
  },
  {
   "cell_type": "markdown",
   "metadata": {},
   "source": [
    "---"
   ]
  },
  {
   "cell_type": "markdown",
   "metadata": {},
   "source": [
    "### Un ejemplo sencillo para conocer como utilizar una matriz"
   ]
  },
  {
   "cell_type": "code",
   "execution_count": 45,
   "metadata": {},
   "outputs": [
    {
     "name": "stdout",
     "output_type": "stream",
     "text": [
      "1\n",
      "3\n"
     ]
    }
   ],
   "source": [
    "x = [[1,2,3],[3,4,5]]\n",
    "for i in 1:2\n",
    "    println(x[i][1])\n",
    "end"
   ]
  },
  {
   "cell_type": "markdown",
   "metadata": {},
   "source": [
    "Aquí, nosotros llamamos la variable **x** que trabajar de forma como una matriz, el cual que tiene 2 filas y 3 columnas, después aquí utilizó el ciclo for para imprimir el número de **i** para fila y su primer columna, debe recordar, en comparación con otros lenguajes, indicar la posición de una matriz, sea de columna o fila, se trabaja **1**, no como anteriormente como **0**."
   ]
  },
  {
   "cell_type": "markdown",
   "metadata": {},
   "source": [
    "---"
   ]
  },
  {
   "cell_type": "markdown",
   "metadata": {},
   "source": [
    "### Para ver como asignar un numero complejo"
   ]
  },
  {
   "cell_type": "code",
   "execution_count": 46,
   "metadata": {},
   "outputs": [
    {
     "data": {
      "text/plain": [
       "1 + 1im"
      ]
     },
     "metadata": {},
     "output_type": "display_data"
    }
   ],
   "source": [
    "x = 1+ 1im"
   ]
  },
  {
   "cell_type": "markdown",
   "metadata": {},
   "source": [
    "Aqui, utilizo el variable de **x**, para asignar un tipo de numero complejo, ¿cómo asignarlo? Lo que debe hacer es, colocando una signo igualdad, escribir el numero que tiene el **i**, y colocando el signo **+** o **-** para asignar el numero **j**."
   ]
  },
  {
   "cell_type": "markdown",
   "metadata": {},
   "source": [
    "---"
   ]
  },
  {
   "cell_type": "markdown",
   "metadata": {},
   "source": [
    "### Cómo concantenarlo dos tipos de String"
   ]
  },
  {
   "cell_type": "code",
   "execution_count": 47,
   "metadata": {},
   "outputs": [
    {
     "name": "stdout",
     "output_type": "stream",
     "text": [
      "32 HOLLLL"
     ]
    }
   ],
   "source": [
    "numm = 32\n",
    "rr = string(numm)\n",
    "print(rr * \" HOLLLL\")"
   ]
  },
  {
   "cell_type": "markdown",
   "metadata": {},
   "source": [
    "Aqui, como podemos ver, principio, escribimos el variable **numm** para asignar un numero tipo int, luego, lo convertimos en tipo string, utilizando el **string**, colocando el **numm** dentro de un paréntesis, luego utiliza el **print** y el signo **\"*\"**, que dentro en paréntesis, concatenando el **numm** y un string (como ejemplo dice \"HOLLLL\")."
   ]
  }
 ],
 "metadata": {
  "kernelspec": {
   "display_name": "Julia 1.10.2",
   "language": "julia",
   "name": "julia-1.10"
  },
  "language_info": {
   "file_extension": ".jl",
   "mimetype": "application/julia",
   "name": "julia",
   "version": "1.10.2"
  }
 },
 "nbformat": 4,
 "nbformat_minor": 2
}
