{
 "cells": [
  {
   "cell_type": "markdown",
   "metadata": {},
   "source": [
    "# <center>**Práctica de Julia**</center>  \n",
    "<center><img src = \"Julia icono.png\" width = 300 height = 200></center>"
   ]
  },
  {
   "cell_type": "markdown",
   "metadata": {},
   "source": [
    "---"
   ]
  },
  {
   "cell_type": "markdown",
   "metadata": {},
   "source": [
    "## Introducción a Julia"
   ]
  },
  {
   "cell_type": "markdown",
   "metadata": {},
   "source": [
    "Julia es un lenguaje de programación abierto de alto nivel, multiparadigma y dinámico, diseñado para la computación científica y técnica. Caracterizado por su alto rendimiento, sintaxis clara y facilidad de uso lo cual lo convierte en una herramienta eficaz su aplicacion en diversos campos como el análisis numérico, simulación científica, modelado financiero y muchas otras.\n",
    "\n",
    "Su desarollo comenzó en 2009 por un equipo de cinco científicos e ingenieros computacionales (Jeff Bezanson, Alan Edelman, Viral B. Shah, John Bezanson y Stefan Karpinski), en 2012 se fundó la organización sin fines de lucro Julia Computing para facilitar el desarrollo y la promoción del lenguaje.\n",
    "\n",
    "### Instalación\n",
    "\n",
    "Julia se puede descargar desde su página oficial:\n",
    "- https://julialang.org/downloads/\n",
    "\n",
    "o ejecutando el siguiente comando en el símbolo del sistema:\n",
    "- winget install julia -s msstore"
   ]
  },
  {
   "cell_type": "markdown",
   "metadata": {},
   "source": [
    "---"
   ]
  },
  {
   "cell_type": "markdown",
   "metadata": {},
   "source": [
    "## **Variables**\n",
    "\n"
   ]
  },
  {
   "cell_type": "markdown",
   "metadata": {},
   "source": [
    "Una variable es un nombre que se le asocia a un valor, es utilizado para almacenar diversos datos para luego usarlos en cálculos, operaciones o manejar su contenido para el desarrollo de un programa.\n",
    "\n",
    "#### Tipos:\n",
    "Variables primitivas.\n",
    "- Cadena(String)\n",
    "- Caracteres(Char)\n",
    "- Enteros (Int64 o Int128)\n",
    "- Reales (Float64 o Float128)\n",
    "- Complejos (Complex)\n",
    "- Booleana (True o False)\n"
   ]
  },
  {
   "cell_type": "code",
   "execution_count": 6,
   "metadata": {},
   "outputs": [
    {
     "name": "stdout",
     "output_type": "stream",
     "text": [
      "20.321\n",
      "Jose Nava"
     ]
    }
   ],
   "source": [
    "#Declaración de variables en Julia\n",
    "\n",
    "#Declaración sin especificar tipo:\n",
    "nombre = \"Jose\"\n",
    "x = 10\n",
    "y = 2.231\n",
    "verdadero = true\n",
    "\n",
    "#Declaración con tipo explícito:\n",
    "apellido::String = \"Nava\"\n",
    "a::Int64 = 25\n",
    "b::Float32 = 10.321\n",
    "opcion::Bool= false\n",
    "\n",
    "#Operaciones con variables\n",
    "resultado = x+b\n",
    "println(resultado)\n",
    "\n",
    "cadena= nombre*\" \"*apellido\n",
    "print(cadena)"
   ]
  },
  {
   "cell_type": "markdown",
   "metadata": {},
   "source": [
    "---"
   ]
  },
  {
   "cell_type": "markdown",
   "metadata": {},
   "source": [
    "## **Uso de print y println**"
   ]
  },
  {
   "cell_type": "markdown",
   "metadata": {},
   "source": [
    "Y con una pequeña introducción cómo definir una variable"
   ]
  },
  {
   "cell_type": "code",
   "execution_count": 7,
   "metadata": {},
   "outputs": [
    {
     "name": "stdout",
     "output_type": "stream",
     "text": [
      "Hola Julia\n",
      "18"
     ]
    }
   ],
   "source": [
    "print(\"Hola Julia\")\n",
    "\n",
    "num1 = 18\n",
    "println()\n",
    "print(num1)"
   ]
  },
  {
   "cell_type": "markdown",
   "metadata": {},
   "source": [
    "El primer linea codigo: Aquí se utiliza el **print**, el cual sirve para imprimir sea un tipo de numero o tipo string, en este caso imprime el tipo string (debe recordar colocar 2 doble comilla cerrando al contenido, y por último se cierra con un paréntesis a todo) \n",
    "   \n",
    "La segunda linea codigo: **num1** es una variable que se está guardando un número entero '18'. ¿Qué es una variable? Es aquella que pueda nombrar cualquier nombres pero no palabras reservadas, por ejemplo también pueda nombrarse como 'num2', 'num3', etc., que el cual sirve para asignar un tipo de valor.  \n",
    "  \n",
    "Los restos codigos: el **println** realmente es igual como print, pero cuando terminar de imprimir, se hace un salto de linea. En este caso, no se imprime nada y se salta para otra linea, y por último se imprime el variable **num1** con el print, cerrando con un paréntesis."
   ]
  },
  {
   "cell_type": "markdown",
   "metadata": {},
   "source": [
    "---"
   ]
  },
  {
   "cell_type": "markdown",
   "metadata": {},
   "source": [
    "## Operaciones Aritméticas"
   ]
  },
  {
   "cell_type": "markdown",
   "metadata": {},
   "source": [
    "Julia ofrece una amplia gama de operaciones aritméticas para realizar cálculos matemáticos con números enteros, reales, complejos y otros tipos de datos numéricos. \n",
    "Las principales operaciones aritméticas que nos permite realizar Julia son:\n",
    "\n",
    "- Suma (+): Suma dos operandos.\n",
    "- Resta (-): Resta el segundo operando del primero.\n",
    "- Multiplicación (*): Multiplica dos operandos.\n",
    "- División (/): Divide el primer operando por el segundo.\n",
    "- Exponente (^): Eleva el primer operando a la potencia del segundo.\n",
    "- Módulo (%): Obtiene el residuo de la división del primer operando por el segundo."
   ]
  },
  {
   "cell_type": "code",
   "execution_count": 8,
   "metadata": {},
   "outputs": [
    {
     "name": "stdout",
     "output_type": "stream",
     "text": [
      "5\n",
      "2\n",
      "30\n",
      "5.0\n",
      "32\n",
      "2\n"
     ]
    }
   ],
   "source": [
    "#Ejemplos de uso para las operaciones aritméticas básicas.\n",
    "\n",
    "#Suma\n",
    "suma = 2+3\n",
    "println(suma)\n",
    "\n",
    "#Resta\n",
    "resta = 10-8\n",
    "println(resta)\n",
    "\n",
    "#Multiplicación\n",
    "multi = 10* 3\n",
    "println(multi)\n",
    "\n",
    "#División\n",
    "division = 25/5\n",
    "println(division)\n",
    "\n",
    "#Exponente\n",
    "expo = 2^5\n",
    "println(expo)\n",
    "\n",
    "#Modulo\n",
    "residuo = 11%3\n",
    "println(residuo)"
   ]
  },
  {
   "cell_type": "markdown",
   "metadata": {},
   "source": [
    "---"
   ]
  },
  {
   "cell_type": "markdown",
   "metadata": {},
   "source": [
    "## **Ejemplo sencillo de Suma**"
   ]
  },
  {
   "cell_type": "code",
   "execution_count": 9,
   "metadata": {},
   "outputs": [
    {
     "name": "stdout",
     "output_type": "stream",
     "text": [
      "520"
     ]
    }
   ],
   "source": [
    "x = 50\n",
    "y = 470\n",
    "result = x + y\n",
    "print(result)"
   ]
  },
  {
   "cell_type": "markdown",
   "metadata": {},
   "source": [
    "**x** y **y** son variables. En este caso, **x** está guardando un numero entero 50, y el **y** está guardando un numero entero 470.\n",
    "Después, el variable \"result\" se asignó el resultado de la suma de **x** y **y**.\n",
    "Y al final imprime el resultado de la suma, que seria **result** utilizando el \"print()\"."
   ]
  },
  {
   "cell_type": "markdown",
   "metadata": {},
   "source": [
    "---"
   ]
  },
  {
   "cell_type": "markdown",
   "metadata": {},
   "source": [
    "## **Ejemplo de ciclo for**"
   ]
  },
  {
   "cell_type": "code",
   "execution_count": 10,
   "metadata": {},
   "outputs": [
    {
     "name": "stdout",
     "output_type": "stream",
     "text": [
      "2\n",
      "3\n",
      "4\n",
      "5\n",
      "6\n",
      "7\n",
      "8\n",
      "9\n",
      "10\n",
      "11\n"
     ]
    }
   ],
   "source": [
    "for i in 1:10\n",
    "    i += 1\n",
    "    println(i)\n",
    "end"
   ]
  },
  {
   "cell_type": "markdown",
   "metadata": {},
   "source": [
    "En este codigo, se muestra como se trabaja **el ciclo for**. Un ciclo for es una estructura que se utiliza para ejercutar un bloque de codigo un número determinado de veces; la letra **i** es un valor inicial que puede ser cualquier cosa correspondiente al tipo de dato asignado.  \n",
    "  \n",
    "En este caso de codigo, el cual seria está trabajando de un rango de **1** hasta **10**, y dentro el ciclo **for**, el **i** se suma más uno, y luego se lo imprime, y por último se debe colocar el **end** para terminar el ciclo **for**."
   ]
  },
  {
   "cell_type": "markdown",
   "metadata": {},
   "source": [
    "---"
   ]
  },
  {
   "cell_type": "markdown",
   "metadata": {},
   "source": [
    "## **Un ejemplo sencillo para conocer como utilizar una matriz**"
   ]
  },
  {
   "cell_type": "code",
   "execution_count": 11,
   "metadata": {},
   "outputs": [
    {
     "name": "stdout",
     "output_type": "stream",
     "text": [
      "1\n",
      "3\n"
     ]
    }
   ],
   "source": [
    "x = [[1,2,3],[3,4,5]]\n",
    "for i in 1:2\n",
    "    println(x[i][1])\n",
    "end"
   ]
  },
  {
   "cell_type": "markdown",
   "metadata": {},
   "source": [
    "Aquí, nosotros llamamos la variable **x** que trabajar de forma como una matriz, el cual que tiene 2 filas y 3 columnas, después aquí utilizó el ciclo for para imprimir el número de **i** para fila y su primer columna, debe recordar, en comparación con otros lenguajes, se indica la posición de una matriz, sea de columna o fila, se trabaja **1**, no como anteriormente como **0**."
   ]
  },
  {
   "cell_type": "markdown",
   "metadata": {},
   "source": [
    "---"
   ]
  },
  {
   "cell_type": "markdown",
   "metadata": {},
   "source": [
    "## **Para ver como asignar un numero complejo**"
   ]
  },
  {
   "cell_type": "code",
   "execution_count": 12,
   "metadata": {},
   "outputs": [
    {
     "data": {
      "text/plain": [
       "1 + 1im"
      ]
     },
     "metadata": {},
     "output_type": "display_data"
    }
   ],
   "source": [
    "x = 1+ 1im"
   ]
  },
  {
   "cell_type": "markdown",
   "metadata": {},
   "source": [
    "Aqui, utilizo el variable de **x**, para asignar un tipo de numero complejo, ¿cómo asignarlo? Lo que debe hacer es, colocando una signo igualdad, escribir el numero que tiene el **i**, y colocando el signo **\"+\"** o **\"-\"** para asignar el numero **j**."
   ]
  },
  {
   "cell_type": "markdown",
   "metadata": {},
   "source": [
    "---"
   ]
  },
  {
   "cell_type": "markdown",
   "metadata": {},
   "source": [
    "## **Cómo concantenarlo dos tipos de String**"
   ]
  },
  {
   "cell_type": "code",
   "execution_count": 13,
   "metadata": {},
   "outputs": [
    {
     "name": "stdout",
     "output_type": "stream",
     "text": [
      "32 HOLLLL"
     ]
    }
   ],
   "source": [
    "num = 32\n",
    "texto = string(num)\n",
    "print(texto * \" HOLLLL\")"
   ]
  },
  {
   "cell_type": "markdown",
   "metadata": {},
   "source": [
    "Aqui, como podemos ver, principio, escribimos el variable **num** para asignar un numero tipo int, luego, lo convertimos en tipo string, utilizando el **string**, colocando el **num** dentro de un paréntesis, luego utiliza el **print** y el signo **\"*\"** (el **\"*\"** sirve para concantenar), que dentro en paréntesis, concatenando el **num** y un string (como ejemplo dice \"HOLLLL\")."
   ]
  }
 ],
 "metadata": {
  "kernelspec": {
   "display_name": "Julia 1.10.3",
   "language": "julia",
   "name": "julia-1.10"
  },
  "language_info": {
   "file_extension": ".jl",
   "mimetype": "application/julia",
   "name": "julia",
   "version": "1.10.3"
  }
 },
 "nbformat": 4,
 "nbformat_minor": 2
}
