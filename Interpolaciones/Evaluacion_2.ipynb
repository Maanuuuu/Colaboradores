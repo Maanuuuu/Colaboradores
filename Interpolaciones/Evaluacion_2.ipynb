{
 "cells": [
  {
   "cell_type": "markdown",
   "metadata": {},
   "source": [
    "<center><h1>Datos Meteorológicos con Métodos de Interpolación</h1></center>  \n",
    "<center><img src=\"clima.png\" width=270 height=270></center>  \n",
    "\n",
    "### **Sección: 305C1**\n",
    "### **Estudiantes:**\n",
    "Manuel Nava 30.822.007  \n",
    "Juan Wu 30.391.117  \n",
    "José Farrauto 30.696.288  "
   ]
  },
  {
   "cell_type": "markdown",
   "metadata": {},
   "source": [
    "---"
   ]
  },
  {
   "cell_type": "markdown",
   "metadata": {},
   "source": [
    "## Interpolación de Taylor"
   ]
  },
  {
   "cell_type": "code",
   "execution_count": 1,
   "metadata": {},
   "outputs": [],
   "source": []
  },
  {
   "cell_type": "markdown",
   "metadata": {},
   "source": [
    "---"
   ]
  },
  {
   "cell_type": "markdown",
   "metadata": {},
   "source": [
    "## Interpolación de Lagrange"
   ]
  },
  {
   "cell_type": "code",
   "execution_count": 26,
   "metadata": {},
   "outputs": [
    {
     "name": "stdout",
     "output_type": "stream",
     "text": [
      "[15.5, 12.5, 8.0, 7.0, 9.5, 7.5, 6.0][1.0, 2.0, 3.0, 4.0, 5.0, 6.0, 7.0]"
     ]
    }
   ],
   "source": [
    "#=Importar libreria necesaria=#\n",
    "using PyCall\n",
    "using Plots\n",
    "np = pyimport(\"numpy\")\n",
    "\n",
    "#=Datos de prueba=#\n",
    "baja = np.array([10,7,4,3,5,2,2]) #=Temperatura baja=# \n",
    "alta = np.array([21,18,12,11,14,13,10]) #=Temperatura alta=#\n",
    "\n",
    "#=Variables para trabajar:=#\n",
    "dias = length(baja) #Esto es para contar cuanto dias\n",
    "promedio_T = np.zeros(dias)\n",
    "dias_lista = np.zeros(dias)\n",
    "\n",
    "#Sacar promedio de temperatura\n",
    "for i in 1:dias\n",
    "    promedio_T[i]= (alta[i]+baja[i])/2\n",
    "end\n",
    "print(promedio_T)\n",
    "\n",
    "#=Contar cantidad de dias=#\n",
    "j = 1\n",
    "for i in 1:dias\n",
    "    dias_lista[i] = j\n",
    "    j = j + 1\n",
    "end\n",
    "print(dias_lista)"
   ]
  },
  {
   "cell_type": "markdown",
   "metadata": {},
   "source": [
    "---"
   ]
  },
  {
   "cell_type": "markdown",
   "metadata": {},
   "source": [
    "## Interpolación de Hermite"
   ]
  },
  {
   "cell_type": "code",
   "execution_count": 3,
   "metadata": {},
   "outputs": [],
   "source": []
  },
  {
   "cell_type": "markdown",
   "metadata": {},
   "source": [
    "---"
   ]
  },
  {
   "cell_type": "markdown",
   "metadata": {},
   "source": [
    "## Interpolación Polinómicas a Trozos"
   ]
  },
  {
   "cell_type": "code",
   "execution_count": 4,
   "metadata": {},
   "outputs": [],
   "source": []
  },
  {
   "cell_type": "markdown",
   "metadata": {},
   "source": [
    "<center><h2>Gracias!!</h2></center>"
   ]
  }
 ],
 "metadata": {
  "kernelspec": {
   "display_name": "Julia 1.10.2",
   "language": "julia",
   "name": "julia-1.10"
  },
  "language_info": {
   "file_extension": ".jl",
   "mimetype": "application/julia",
   "name": "julia",
   "version": "1.10.2"
  }
 },
 "nbformat": 4,
 "nbformat_minor": 2
}
