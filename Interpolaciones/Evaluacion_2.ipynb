{
 "cells": [
  {
   "cell_type": "markdown",
   "metadata": {},
   "source": [
    "<center><h1>Datos Meteorológicos con Métodos de Interpolación</h1></center>  \n",
    "<center><img src=\"clima.png\" width=270 height=270></center>  \n",
    "\n",
    "### **Sección: 305C1**\n",
    "### **Estudiantes:**\n",
    "Manuel Nava 30.822.007  \n",
    "Juan Wu 30.391.117  \n",
    "José Farrauto 30.696.288  "
   ]
  },
  {
   "cell_type": "markdown",
   "metadata": {},
   "source": [
    "---"
   ]
  },
  {
   "cell_type": "markdown",
   "metadata": {},
   "source": [
    "## Interpolación de Taylor"
   ]
  },
  {
   "cell_type": "code",
   "execution_count": 1,
   "metadata": {},
   "outputs": [],
   "source": []
  },
  {
   "cell_type": "markdown",
   "metadata": {},
   "source": [
    "---"
   ]
  },
  {
   "cell_type": "markdown",
   "metadata": {},
   "source": [
    "## Interpolación de Lagrange"
   ]
  },
  {
   "cell_type": "code",
   "execution_count": 32,
   "metadata": {},
   "outputs": [
    {
     "data": {
      "text/plain": [
       "100-element Vector{Float64}:\n",
       " 1.0\n",
       " 1.0606060606060606\n",
       " 1.121212121212121\n",
       " 1.1818181818181819\n",
       " 1.2424242424242424\n",
       " 1.303030303030303\n",
       " 1.3636363636363638\n",
       " 1.4242424242424243\n",
       " 1.4848484848484849\n",
       " 1.5454545454545454\n",
       " ⋮\n",
       " 6.515151515151516\n",
       " 6.575757575757576\n",
       " 6.636363636363637\n",
       " 6.696969696969697\n",
       " 6.757575757575758\n",
       " 6.818181818181818\n",
       " 6.878787878787879\n",
       " 6.9393939393939394\n",
       " 7.0"
      ]
     },
     "metadata": {},
     "output_type": "display_data"
    }
   ],
   "source": [
    "#=Importar libreria necesaria=#\n",
    "using PyCall\n",
    "using Plots\n",
    "np = pyimport(\"numpy\")\n",
    "\n",
    "#=Datos de prueba=#\n",
    "baja = np.array([10,7,4,3,5,2,2]) #=Temperatura baja=# \n",
    "alta = np.array([21,18,12,11,14,13,10]) #=Temperatura alta=#\n",
    "\n",
    "#=Variables para trabajar:=#\n",
    "dias = length(baja) #Esto es para contar cuanto dias\n",
    "promedio_T = np.zeros(dias)\n",
    "dias_lista = np.zeros(dias)\n",
    "\n",
    "#Sacar promedio de temperatura\n",
    "for i in 1:dias\n",
    "    promedio_T[i]= (alta[i]+baja[i])/2\n",
    "end\n",
    "\n",
    "#=Contar cantidad de dias=#\n",
    "j = 1\n",
    "for i in 1:dias\n",
    "    dias_lista[i] = j\n",
    "    j = j + 1\n",
    "end\n",
    "\n",
    "#Procedimiento para el Interpolacion de Lagrange:\n",
    "\n",
    "#Sacar el valor el vector \"X\":\n",
    "menordias = np.min(dias_lista)\n",
    "mayordias = np.max(dias_lista)\n",
    "xpp = np.linspace(menordias, mayordias, 100)"
   ]
  },
  {
   "cell_type": "markdown",
   "metadata": {},
   "source": [
    "---"
   ]
  },
  {
   "cell_type": "markdown",
   "metadata": {},
   "source": [
    "## Interpolación de Hermite"
   ]
  },
  {
   "cell_type": "code",
   "execution_count": 3,
   "metadata": {},
   "outputs": [],
   "source": []
  },
  {
   "cell_type": "markdown",
   "metadata": {},
   "source": [
    "---"
   ]
  },
  {
   "cell_type": "markdown",
   "metadata": {},
   "source": [
    "## Interpolación Polinómicas a Trozos"
   ]
  },
  {
   "cell_type": "code",
   "execution_count": 4,
   "metadata": {},
   "outputs": [],
   "source": []
  },
  {
   "cell_type": "markdown",
   "metadata": {},
   "source": [
    "<center><h2>Gracias!!</h2></center>"
   ]
  }
 ],
 "metadata": {
  "kernelspec": {
   "display_name": "Julia 1.10.2",
   "language": "julia",
   "name": "julia-1.10"
  },
  "language_info": {
   "file_extension": ".jl",
   "mimetype": "application/julia",
   "name": "julia",
   "version": "1.10.2"
  }
 },
 "nbformat": 4,
 "nbformat_minor": 2
}
