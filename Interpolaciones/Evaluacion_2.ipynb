{
 "cells": [
  {
   "cell_type": "markdown",
   "metadata": {},
   "source": [
    "<center><h1>Datos Meteorológicos con Métodos de Interpolación</h1></center>  \n",
    "<center><img src=\"clima.png\" width=270 height=270></center>  \n",
    "\n",
    "### **Sección: 305C1**\n",
    "### **Estudiantes:**\n",
    "Manuel Nava 30.822.007  \n",
    "Juan Wu 30.391.117  \n",
    "José Farrauto 30.696.288  "
   ]
  },
  {
   "cell_type": "markdown",
   "metadata": {},
   "source": [
    "---"
   ]
  },
  {
   "cell_type": "markdown",
   "metadata": {},
   "source": [
    "## Interpolación de Taylor"
   ]
  },
  {
   "cell_type": "code",
   "execution_count": 1,
   "metadata": {},
   "outputs": [],
   "source": []
  },
  {
   "cell_type": "markdown",
   "metadata": {},
   "source": [
    "---"
   ]
  },
  {
   "cell_type": "markdown",
   "metadata": {},
   "source": [
    "## Interpolación de Lagrange"
   ]
  },
  {
   "cell_type": "code",
   "execution_count": 10,
   "metadata": {},
   "outputs": [
    {
     "name": "stdout",
     "output_type": "stream",
     "text": [
      "[15.5, 15.278037822812882, 15.083770111555387, 14.910126154278633, 14.75086571104369, 14.60053047380948, 14.45439671566489, 14.308429129405171, 14.159235855452597, 14.004024699121288, 13.8405605372264, 13.667123914037493, 13.482470826576112, 13.285793699257697, 13.076683547877703, 12.855093332941962, 12.621302502341297, 12.375882723370378, 12.119664804090855, 11.853706804038692, 11.579263334275803, 11.29775604678586, 11.010745313214448, 10.719903092953388, 10.426986990569333, 10.13381550257661, 9.842244453554335, 9.554144621607724, 9.271380553173696, 8.995790567170724, 8.729167948492883, 8.47324333084821, 8.229668268941271, 8.0, 7.7856873946467475, 7.588058097113622, 7.408306854802065, 7.24748503718665, 7.106491344063161, 6.986063703140902, 6.886772356979249, 6.809014139268469, 6.753007940454776, 6.718791362709618, 6.706218564243255, 6.714959292962534, 6.7444991094729465, 6.794140799424915, 6.863006975204354, 6.95004386696743, 7.054026303019627, 7.173563879539004, 7.307108319643762, 7.45296202180399, 7.609287797597713, 7.77411979881116, 7.945375633883285, 8.120869673694555, 8.298327546699948, 8.475401823406226, 8.649688890193453, 8.818747012480753, 8.98011558723632, 9.131335584831682, 9.269971180240194, 9.39363257357979, 9.5, 9.586848928913179, 9.652076452570023, 9.69372886397928, 9.710030424171775, 9.699413318808633, 9.660548804133755, 9.592379542270578, 9.494153125863031, 9.365456792060785, 9.206253325848715, 9.01691815272062, 8.798277620697224, 8.551648471688372, 8.278878502199484, 7.9823884133823215, 7.665214850429893, 7.331054631315701, 6.98431016487719, 6.630136058243448, 6.274486913607177, 5.924166314340855, 5.586877000457245, 5.271272233414045, 4.987008350262843, 4.744798507142327, 4.55646761211569, 4.435008447352363, 4.394638980653908, 4.450860866324232, 4.62051913538399, 4.921863075129302, 5.374608298034634, 6.0]"
     ]
    }
   ],
   "source": [
    "#=Importar libreria necesaria=#\n",
    "using PyCall\n",
    "using Plots\n",
    "np = pyimport(\"numpy\")\n",
    "\n",
    "#=Datos de prueba=#\n",
    "baja = np.array([10,7,4,3,5,2,2]) #=Temperatura baja=# \n",
    "alta = np.array([21,18,12,11,14,13,10]) #=Temperatura alta=#\n",
    "\n",
    "#=Variables para trabajar:=#\n",
    "dias = length(baja) #Esto es para contar cuanto dias\n",
    "promedio_T = np.zeros(dias)\n",
    "dias_lista = np.zeros(dias)\n",
    "\n",
    "#Sacar promedio de temperatura\n",
    "for i in 1:dias\n",
    "    promedio_T[i]= (alta[i]+baja[i])/2\n",
    "end\n",
    "\n",
    "#=Contar cantidad de dias=#\n",
    "j = 1\n",
    "for i in 1:dias\n",
    "    dias_lista[i] = j\n",
    "    j = j + 1\n",
    "end\n",
    "\n",
    "#Procedimiento para el Interpolacion de Lagrange:\n",
    "\n",
    "#Sacar el valor el vector \"X\":\n",
    "menordias = np.min(dias_lista)\n",
    "mayordias = np.max(dias_lista)\n",
    "xpp = np.linspace(menordias, mayordias, 100)\n",
    "\n",
    "#Sacar el valor el vector \"Y\":\n",
    "ypp = np.zeros(length(xpp))\n",
    "for i in 1:dias\n",
    "    acum_p = np.ones(length(xpp))#Para acumular el valor de y\n",
    "    for j in 1:dias\n",
    "        if i != j\n",
    "            acum_p .*= ((xpp .- dias_lista[j] ) ./ (dias_lista[i]- dias_lista[j]))\n",
    "        end\n",
    "    end\n",
    "    ypp .+= promedio_T[i] .* acum_p\n",
    "end\n",
    "\n",
    "print(ypp)"
   ]
  },
  {
   "cell_type": "markdown",
   "metadata": {},
   "source": [
    "---"
   ]
  },
  {
   "cell_type": "markdown",
   "metadata": {},
   "source": [
    "## Interpolación de Hermite"
   ]
  },
  {
   "cell_type": "code",
   "execution_count": 3,
   "metadata": {},
   "outputs": [],
   "source": []
  },
  {
   "cell_type": "markdown",
   "metadata": {},
   "source": [
    "---"
   ]
  },
  {
   "cell_type": "markdown",
   "metadata": {},
   "source": [
    "## Interpolación Polinómicas a Trozos"
   ]
  },
  {
   "cell_type": "code",
   "execution_count": 4,
   "metadata": {},
   "outputs": [],
   "source": []
  },
  {
   "cell_type": "markdown",
   "metadata": {},
   "source": [
    "<center><h2>Gracias!!</h2></center>"
   ]
  }
 ],
 "metadata": {
  "kernelspec": {
   "display_name": "Julia 1.10.2",
   "language": "julia",
   "name": "julia-1.10"
  },
  "language_info": {
   "file_extension": ".jl",
   "mimetype": "application/julia",
   "name": "julia",
   "version": "1.10.2"
  }
 },
 "nbformat": 4,
 "nbformat_minor": 2
}
